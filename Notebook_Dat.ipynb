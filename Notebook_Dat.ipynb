{
 "cells": [
  {
   "cell_type": "markdown",
   "metadata": {},
   "source": [
    "# Preprocesamiento "
   ]
  },
  {
   "cell_type": "code",
   "execution_count": 2,
   "metadata": {},
   "outputs": [],
   "source": [
    "import pandas as pd\n",
    "import numpy as np"
   ]
  },
  {
   "cell_type": "code",
   "execution_count": 15,
   "metadata": {},
   "outputs": [],
   "source": [
    "df=pd.read_csv(r'Data/ds_salaries.csv')\n",
    "#esta funcion es para poder hacer que se lea el archivo que se importo. con pandas se busca leer el archivo contenido en una carpeta.\n"
   ]
  },
  {
   "cell_type": "code",
   "execution_count": 16,
   "metadata": {},
   "outputs": [
    {
     "data": {
      "text/html": [
       "<div>\n",
       "<style scoped>\n",
       "    .dataframe tbody tr th:only-of-type {\n",
       "        vertical-align: middle;\n",
       "    }\n",
       "\n",
       "    .dataframe tbody tr th {\n",
       "        vertical-align: top;\n",
       "    }\n",
       "\n",
       "    .dataframe thead th {\n",
       "        text-align: right;\n",
       "    }\n",
       "</style>\n",
       "<table border=\"1\" class=\"dataframe\">\n",
       "  <thead>\n",
       "    <tr style=\"text-align: right;\">\n",
       "      <th></th>\n",
       "      <th>work_year</th>\n",
       "      <th>experience_level</th>\n",
       "      <th>employment_type</th>\n",
       "      <th>job_title</th>\n",
       "      <th>salary</th>\n",
       "      <th>salary_currency</th>\n",
       "      <th>salary_in_usd</th>\n",
       "      <th>employee_residence</th>\n",
       "      <th>remote_ratio</th>\n",
       "      <th>company_location</th>\n",
       "      <th>company_size</th>\n",
       "    </tr>\n",
       "  </thead>\n",
       "  <tbody>\n",
       "    <tr>\n",
       "      <th>0</th>\n",
       "      <td>2023</td>\n",
       "      <td>SE</td>\n",
       "      <td>FT</td>\n",
       "      <td>Principal Data Scientist</td>\n",
       "      <td>80000</td>\n",
       "      <td>EUR</td>\n",
       "      <td>85847</td>\n",
       "      <td>ES</td>\n",
       "      <td>100</td>\n",
       "      <td>ES</td>\n",
       "      <td>L</td>\n",
       "    </tr>\n",
       "    <tr>\n",
       "      <th>1</th>\n",
       "      <td>2023</td>\n",
       "      <td>MI</td>\n",
       "      <td>CT</td>\n",
       "      <td>ML Engineer</td>\n",
       "      <td>30000</td>\n",
       "      <td>USD</td>\n",
       "      <td>30000</td>\n",
       "      <td>US</td>\n",
       "      <td>100</td>\n",
       "      <td>US</td>\n",
       "      <td>S</td>\n",
       "    </tr>\n",
       "    <tr>\n",
       "      <th>2</th>\n",
       "      <td>2023</td>\n",
       "      <td>MI</td>\n",
       "      <td>CT</td>\n",
       "      <td>ML Engineer</td>\n",
       "      <td>25500</td>\n",
       "      <td>USD</td>\n",
       "      <td>25500</td>\n",
       "      <td>US</td>\n",
       "      <td>100</td>\n",
       "      <td>US</td>\n",
       "      <td>S</td>\n",
       "    </tr>\n",
       "  </tbody>\n",
       "</table>\n",
       "</div>"
      ],
      "text/plain": [
       "   work_year experience_level employment_type                 job_title  \\\n",
       "0       2023               SE              FT  Principal Data Scientist   \n",
       "1       2023               MI              CT               ML Engineer   \n",
       "2       2023               MI              CT               ML Engineer   \n",
       "\n",
       "   salary salary_currency  salary_in_usd employee_residence  remote_ratio  \\\n",
       "0   80000             EUR          85847                 ES           100   \n",
       "1   30000             USD          30000                 US           100   \n",
       "2   25500             USD          25500                 US           100   \n",
       "\n",
       "  company_location company_size  \n",
       "0               ES            L  \n",
       "1               US            S  \n",
       "2               US            S  "
      ]
     },
     "execution_count": 16,
     "metadata": {},
     "output_type": "execute_result"
    }
   ],
   "source": [
    "df.head(3)\n"
   ]
  },
  {
   "cell_type": "code",
   "execution_count": 17,
   "metadata": {},
   "outputs": [
    {
     "data": {
      "text/plain": [
       "Index(['work_year', 'experience_level', 'employment_type', 'job_title',\n",
       "       'salary', 'salary_currency', 'salary_in_usd', 'employee_residence',\n",
       "       'remote_ratio', 'company_location', 'company_size'],\n",
       "      dtype='object')"
      ]
     },
     "execution_count": 17,
     "metadata": {},
     "output_type": "execute_result"
    }
   ],
   "source": [
    "df.columns # te dice las columnas que se tienen "
   ]
  },
  {
   "cell_type": "code",
   "execution_count": 18,
   "metadata": {},
   "outputs": [
    {
     "data": {
      "text/plain": [
       "(3755, 11)"
      ]
     },
     "execution_count": 18,
     "metadata": {},
     "output_type": "execute_result"
    }
   ],
   "source": [
    "df.shape #saber las dimensiones y son 3755 filas [0] y 11 columnas[1]"
   ]
  },
  {
   "cell_type": "code",
   "execution_count": 20,
   "metadata": {},
   "outputs": [
    {
     "data": {
      "text/plain": [
       "work_year              int64\n",
       "experience_level      object\n",
       "employment_type       object\n",
       "job_title             object\n",
       "salary                 int64\n",
       "salary_currency       object\n",
       "salary_in_usd          int64\n",
       "employee_residence    object\n",
       "remote_ratio           int64\n",
       "company_location      object\n",
       "company_size          object\n",
       "dtype: object"
      ]
     },
     "execution_count": 20,
     "metadata": {},
     "output_type": "execute_result"
    }
   ],
   "source": [
    "df.dtypes #par saber los tipos de datos (object es string)\n"
   ]
  },
  {
   "cell_type": "code",
   "execution_count": 22,
   "metadata": {},
   "outputs": [
    {
     "data": {
      "text/plain": [
       "work_year             0\n",
       "experience_level      0\n",
       "employment_type       0\n",
       "job_title             0\n",
       "salary                0\n",
       "salary_currency       0\n",
       "salary_in_usd         0\n",
       "employee_residence    0\n",
       "remote_ratio          0\n",
       "company_location      0\n",
       "company_size          0\n",
       "dtype: int64"
      ]
     },
     "execution_count": 22,
     "metadata": {},
     "output_type": "execute_result"
    }
   ],
   "source": [
    "df.isnull().sum() \n",
    "#Para saber los valores nulos! ES IMPORTANTE PONER .SUM() para que de esta manera me de los 0 de lo contrario va a dar toda la tabla con valores booleanos.\n"
   ]
  },
  {
   "cell_type": "code",
   "execution_count": 23,
   "metadata": {},
   "outputs": [
    {
     "data": {
      "text/plain": [
       "1171"
      ]
     },
     "execution_count": 23,
     "metadata": {},
     "output_type": "execute_result"
    }
   ],
   "source": [
    "df.duplicated().sum() #Para saber los duplicaados que existen en mi base"
   ]
  },
  {
   "cell_type": "code",
   "execution_count": 33,
   "metadata": {},
   "outputs": [
    {
     "data": {
      "text/html": [
       "<div>\n",
       "<style scoped>\n",
       "    .dataframe tbody tr th:only-of-type {\n",
       "        vertical-align: middle;\n",
       "    }\n",
       "\n",
       "    .dataframe tbody tr th {\n",
       "        vertical-align: top;\n",
       "    }\n",
       "\n",
       "    .dataframe thead th {\n",
       "        text-align: right;\n",
       "    }\n",
       "</style>\n",
       "<table border=\"1\" class=\"dataframe\">\n",
       "  <thead>\n",
       "    <tr style=\"text-align: right;\">\n",
       "      <th></th>\n",
       "      <th></th>\n",
       "      <th></th>\n",
       "      <th></th>\n",
       "      <th></th>\n",
       "      <th></th>\n",
       "      <th></th>\n",
       "      <th></th>\n",
       "      <th></th>\n",
       "      <th></th>\n",
       "      <th></th>\n",
       "    </tr>\n",
       "    <tr>\n",
       "      <th>work_year</th>\n",
       "      <th>experience_level</th>\n",
       "      <th>employment_type</th>\n",
       "      <th>job_title</th>\n",
       "      <th>salary</th>\n",
       "      <th>salary_currency</th>\n",
       "      <th>salary_in_usd</th>\n",
       "      <th>employee_residence</th>\n",
       "      <th>remote_ratio</th>\n",
       "      <th>company_location</th>\n",
       "      <th>company_size</th>\n",
       "    </tr>\n",
       "  </thead>\n",
       "  <tbody>\n",
       "    <tr>\n",
       "      <th rowspan=\"5\" valign=\"top\">2020</th>\n",
       "      <th rowspan=\"5\" valign=\"top\">EN</th>\n",
       "      <th>CT</th>\n",
       "      <th>Business Data Analyst</th>\n",
       "      <th>100000</th>\n",
       "      <th>USD</th>\n",
       "      <th>100000</th>\n",
       "      <th>US</th>\n",
       "      <th>100</th>\n",
       "      <th>US</th>\n",
       "      <th>L</th>\n",
       "    </tr>\n",
       "    <tr>\n",
       "      <th rowspan=\"4\" valign=\"top\">FT</th>\n",
       "      <th>AI Scientist</th>\n",
       "      <th>300000</th>\n",
       "      <th>DKK</th>\n",
       "      <th>45896</th>\n",
       "      <th>DK</th>\n",
       "      <th>50</th>\n",
       "      <th>DK</th>\n",
       "      <th>S</th>\n",
       "    </tr>\n",
       "    <tr>\n",
       "      <th>Big Data Engineer</th>\n",
       "      <th>70000</th>\n",
       "      <th>USD</th>\n",
       "      <th>70000</th>\n",
       "      <th>US</th>\n",
       "      <th>100</th>\n",
       "      <th>US</th>\n",
       "      <th>L</th>\n",
       "    </tr>\n",
       "    <tr>\n",
       "      <th rowspan=\"2\" valign=\"top\">Data Analyst</th>\n",
       "      <th>10000</th>\n",
       "      <th>USD</th>\n",
       "      <th>10000</th>\n",
       "      <th>NG</th>\n",
       "      <th>100</th>\n",
       "      <th>NG</th>\n",
       "      <th>S</th>\n",
       "    </tr>\n",
       "    <tr>\n",
       "      <th>20000</th>\n",
       "      <th>EUR</th>\n",
       "      <th>22809</th>\n",
       "      <th>PT</th>\n",
       "      <th>100</th>\n",
       "      <th>PT</th>\n",
       "      <th>M</th>\n",
       "    </tr>\n",
       "    <tr>\n",
       "      <th>...</th>\n",
       "      <th>...</th>\n",
       "      <th>...</th>\n",
       "      <th>...</th>\n",
       "      <th>...</th>\n",
       "      <th>...</th>\n",
       "      <th>...</th>\n",
       "      <th>...</th>\n",
       "      <th>...</th>\n",
       "      <th>...</th>\n",
       "      <th>...</th>\n",
       "    </tr>\n",
       "    <tr>\n",
       "      <th rowspan=\"5\" valign=\"top\">2023</th>\n",
       "      <th rowspan=\"5\" valign=\"top\">SE</th>\n",
       "      <th rowspan=\"5\" valign=\"top\">FT</th>\n",
       "      <th rowspan=\"5\" valign=\"top\">Research Scientist</th>\n",
       "      <th rowspan=\"2\" valign=\"top\">248100</th>\n",
       "      <th rowspan=\"2\" valign=\"top\">USD</th>\n",
       "      <th rowspan=\"2\" valign=\"top\">248100</th>\n",
       "      <th>CA</th>\n",
       "      <th>0</th>\n",
       "      <th>CA</th>\n",
       "      <th>M</th>\n",
       "    </tr>\n",
       "    <tr>\n",
       "      <th>US</th>\n",
       "      <th>0</th>\n",
       "      <th>US</th>\n",
       "      <th>M</th>\n",
       "    </tr>\n",
       "    <tr>\n",
       "      <th>250000</th>\n",
       "      <th>USD</th>\n",
       "      <th>250000</th>\n",
       "      <th>US</th>\n",
       "      <th>0</th>\n",
       "      <th>US</th>\n",
       "      <th>M</th>\n",
       "    </tr>\n",
       "    <tr>\n",
       "      <th>253750</th>\n",
       "      <th>USD</th>\n",
       "      <th>253750</th>\n",
       "      <th>ES</th>\n",
       "      <th>0</th>\n",
       "      <th>ES</th>\n",
       "      <th>M</th>\n",
       "    </tr>\n",
       "    <tr>\n",
       "      <th>370000</th>\n",
       "      <th>USD</th>\n",
       "      <th>370000</th>\n",
       "      <th>US</th>\n",
       "      <th>0</th>\n",
       "      <th>US</th>\n",
       "      <th>M</th>\n",
       "    </tr>\n",
       "  </tbody>\n",
       "</table>\n",
       "<p>2584 rows × 0 columns</p>\n",
       "</div>"
      ],
      "text/plain": [
       "Empty DataFrame\n",
       "Columns: []\n",
       "Index: [(2020, EN, CT, Business Data Analyst, 100000, USD, 100000, US, 100, US, L), (2020, EN, FT, AI Scientist, 300000, DKK, 45896, DK, 50, DK, S), (2020, EN, FT, Big Data Engineer, 70000, USD, 70000, US, 100, US, L), (2020, EN, FT, Data Analyst, 10000, USD, 10000, NG, 100, NG, S), (2020, EN, FT, Data Analyst, 20000, EUR, 22809, PT, 100, PT, M), (2020, EN, FT, Data Analyst, 72000, USD, 72000, US, 100, US, L), (2020, EN, FT, Data Analyst, 91000, USD, 91000, US, 100, US, L), (2020, EN, FT, Data Analyst, 450000, INR, 6072, IN, 0, IN, S), (2020, EN, FT, Data Engineer, 48000, EUR, 54742, PK, 100, DE, L), (2020, EN, FT, Data Engineer, 1000000, INR, 13493, IN, 100, IN, L), (2020, EN, FT, Data Engineer, 4450000, JPY, 41689, JP, 100, JP, S), (2020, EN, FT, Data Science Consultant, 423000, INR, 5707, IN, 50, IN, M), (2020, EN, FT, Data Scientist, 35000, EUR, 39916, FR, 0, FR, M), (2020, EN, FT, Data Scientist, 43200, EUR, 49268, DE, 0, DE, S), (2020, EN, FT, Data Scientist, 45000, EUR, 51321, FR, 0, FR, S), (2020, EN, FT, Data Scientist, 55000, EUR, 62726, DE, 50, DE, S), (2020, EN, FT, Data Scientist, 105000, USD, 105000, US, 100, US, S), (2020, EN, FT, Machine Learning Engineer, 138000, USD, 138000, US, 100, US, S), (2020, EN, FT, Machine Learning Engineer, 250000, USD, 250000, US, 50, US, L), (2020, EN, FT, Research Scientist, 42000, USD, 42000, NL, 50, NL, L), (2020, EN, PT, Data Scientist, 19000, EUR, 21669, IT, 50, IT, S), (2020, EN, PT, ML Engineer, 14000, EUR, 15966, DE, 100, DE, S), (2020, EX, FT, Data Engineer, 70000, EUR, 79833, ES, 50, ES, L), (2020, EX, FT, Director of Data Science, 325000, USD, 325000, US, 100, US, L), (2020, EX, FT, Staff Data Analyst, 15000, USD, 15000, NG, 0, CA, M), (2020, MI, FT, BI Data Analyst, 98000, USD, 98000, US, 0, US, M), (2020, MI, FT, Business Data Analyst, 95000, USD, 95000, US, 0, US, M), (2020, MI, FT, Business Data Analyst, 135000, USD, 135000, US, 100, US, L), (2020, MI, FT, Data Analyst, 8000, USD, 8000, PK, 50, PK, L), (2020, MI, FT, Data Analyst, 41000, EUR, 46759, FR, 50, FR, L), (2020, MI, FT, Data Analyst, 85000, USD, 85000, US, 100, US, L), (2020, MI, FT, Data Engineer, 51999, EUR, 59303, DE, 100, DE, S), (2020, MI, FT, Data Engineer, 61500, EUR, 70139, FR, 50, FR, L), (2020, MI, FT, Data Engineer, 65000, EUR, 74130, AT, 50, AT, L), (2020, MI, FT, Data Engineer, 88000, GBP, 112872, GB, 50, GB, L), (2020, MI, FT, Data Engineer, 106000, USD, 106000, US, 100, US, L), (2020, MI, FT, Data Engineer, 110000, USD, 110000, US, 100, US, L), (2020, MI, FT, Data Engineer, 130800, USD, 130800, ES, 100, US, M), (2020, MI, FT, Data Science Consultant, 103000, USD, 103000, US, 100, US, L), (2020, MI, FT, Data Scientist, 34000, EUR, 38776, ES, 100, ES, M), (2020, MI, FT, Data Scientist, 37000, EUR, 42197, FR, 50, FR, S), (2020, MI, FT, Data Scientist, 45760, USD, 45760, PH, 100, US, S), (2020, MI, FT, Data Scientist, 55000, EUR, 62726, FR, 50, LU, S), (2020, MI, FT, Data Scientist, 60000, GBP, 76958, GB, 100, GB, S), (2020, MI, FT, Data Scientist, 70000, EUR, 79833, DE, 0, DE, L), (2020, MI, FT, Data Scientist, 105000, USD, 105000, US, 100, US, L), (2020, MI, FT, Data Scientist, 118000, USD, 118000, US, 100, US, M), (2020, MI, FT, Data Scientist, 138350, USD, 138350, US, 100, US, M), (2020, MI, FT, Data Scientist, 3000000, INR, 40481, IN, 0, IN, L), (2020, MI, FT, Data Scientist, 11000000, HUF, 35735, HU, 50, HU, L), (2020, MI, FT, Lead Data Analyst, 87000, USD, 87000, US, 100, US, L), (2020, MI, FT, Lead Data Engineer, 56000, USD, 56000, PT, 100, US, M), (2020, MI, FT, Lead Data Scientist, 115000, USD, 115000, AE, 0, AE, L), (2020, MI, FT, Machine Learning Infrastructure Engineer, 44000, EUR, 50180, PT, 0, PT, M), (2020, MI, FT, Product Data Analyst, 20000, USD, 20000, HN, 0, HN, S), (2020, MI, FT, Product Data Analyst, 450000, INR, 6072, IN, 100, IN, L), (2020, MI, FT, Research Scientist, 450000, USD, 450000, US, 0, US, M), (2020, SE, FL, Computer Vision Engineer, 60000, USD, 60000, RU, 100, US, S), (2020, SE, FT, Big Data Engineer, 85000, GBP, 109024, GB, 50, GB, M), (2020, SE, FT, Big Data Engineer, 100000, EUR, 114047, PL, 100, GB, S), (2020, SE, FT, Data Engineer, 42000, EUR, 47899, GR, 50, GR, L), (2020, SE, FT, Data Engineer, 188000, USD, 188000, US, 100, US, L), (2020, SE, FT, Data Engineer, 720000, MXN, 33511, MX, 0, MX, S), (2020, SE, FT, Data Science Manager, 190200, USD, 190200, US, 100, US, M), (2020, SE, FT, Data Scientist, 60000, EUR, 68428, GR, 100, US, L), (2020, SE, FT, Data Scientist, 80000, EUR, 91237, AT, 0, AT, S), (2020, SE, FT, Data Scientist, 120000, USD, 120000, US, 50, US, L), (2020, SE, FT, Data Scientist, 412000, USD, 412000, US, 100, US, L), (2020, SE, FT, Lead Data Engineer, 125000, USD, 125000, NZ, 50, NZ, S), (2020, SE, FT, Lead Data Scientist, 190000, USD, 190000, US, 100, US, S), (2020, SE, FT, Machine Learning Engineer, 40000, EUR, 45618, HR, 100, HR, S), (2020, SE, FT, Machine Learning Engineer, 150000, USD, 150000, US, 50, US, L), (2020, SE, FT, Machine Learning Manager, 157000, CAD, 117104, CA, 50, CA, L), (2020, SE, FT, Machine Learning Scientist, 260000, USD, 260000, JP, 0, JP, S), (2020, SE, FT, Principal Data Scientist, 130000, EUR, 148261, DE, 100, DE, M), (2021, EN, FT, 3D Computer Vision Researcher, 20000, USD, 20000, AS, 0, AS, M), (2021, EN, FT, AI Scientist, 1335000, INR, 18053, IN, 100, AS, S), (2021, EN, FT, Applied Data Scientist, 80000, GBP, 110037, GB, 0, GB, L), (2021, EN, FT, BI Data Analyst, 9272, USD, 9272, KE, 100, KE, S), (2021, EN, FT, BI Data Analyst, 55000, USD, 55000, US, 50, US, S), (2021, EN, FT, Big Data Engineer, 435000, INR, 5882, IN, 0, CH, L), (2021, EN, FT, Big Data Engineer, 1200000, INR, 16228, IN, 100, IN, L), (2021, EN, FT, Business Data Analyst, 50000, EUR, 59102, LU, 100, LU, L), (2021, EN, FT, Computer Vision Software Engineer, 70000, USD, 70000, US, 100, US, M), (2021, EN, FT, Data Analyst, 50000, EUR, 59102, FR, 50, FR, M), (2021, EN, FT, Data Analyst, 50000, USD, 50000, US, 100, US, M), (2021, EN, FT, Data Analyst, 56000, AUD, 42028, AU, 50, AU, L), (2021, EN, FT, Data Analyst, 60000, USD, 60000, US, 100, US, S), (2021, EN, FT, Data Analyst, 80000, USD, 80000, US, 100, US, M), (2021, EN, FT, Data Analyst, 90000, USD, 90000, US, 100, US, S), (2021, EN, FT, Data Engineer, 33000, GBP, 45390, GB, 50, GB, L), (2021, EN, FT, Data Engineer, 55000, EUR, 65013, DE, 50, DE, M), (2021, EN, FT, Data Engineer, 72500, USD, 72500, US, 100, US, L), (2021, EN, FT, Data Engineer, 80000, USD, 80000, US, 100, US, L), (2021, EN, FT, Data Engineer, 1600000, INR, 21637, IN, 50, IN, M), (2021, EN, FT, Data Engineer, 2250000, INR, 30428, IN, 100, IN, L), (2021, EN, FT, Data Science Consultant, 54000, EUR, 63831, DE, 50, DE, L), (2021, EN, FT, Data Science Consultant, 65000, EUR, 76833, DE, 0, DE, L), (2021, EN, FT, Data Science Consultant, 65000, EUR, 76833, DE, 100, DE, S), (2021, EN, FT, Data Science Consultant, 90000, USD, 90000, US, 100, US, S), ...]\n",
       "\n",
       "[2584 rows x 0 columns]"
      ]
     },
     "execution_count": 33,
     "metadata": {},
     "output_type": "execute_result"
    }
   ],
   "source": [
    "#vamos a crear una funcion que nos permita saber la cantidad de datos repetidos que tenemos por coincidencia de indice \n",
    "df.groupby(['work_year', 'experience_level', 'employment_type', \n",
    "            'job_title','salary', 'salary_currency', 'salary_in_usd', 'employee_residence',\n",
    "            'remote_ratio', 'company_location', 'company_size']).sum()\n",
    "\n"
   ]
  },
  {
   "cell_type": "code",
   "execution_count": 42,
   "metadata": {},
   "outputs": [
    {
     "data": {
      "text/plain": [
       "work_year  experience_level  employment_type  job_title           salary  salary_currency  salary_in_usd  employee_residence  remote_ratio  company_location  company_size\n",
       "2022       SE                FT               Data Scientist      191475  USD              191475         US                  100           US                M               21\n",
       "                                                                  141525  USD              141525         US                  100           US                M               21\n",
       "2023       SE                FT               Data Engineer       252000  USD              252000         US                  0             US                M               13\n",
       "                                                                  129000  USD              129000         US                  0             US                M               13\n",
       "2022       SE                FT               Data Engineer       130000  USD              130000         US                  0             US                M               12\n",
       "                                                                                                                                                                              ..\n",
       "                                              Data Analyst        136600  USD              136600         US                  100           US                M                1\n",
       "                                                                  139600  USD              139600         US                  0             US                M                1\n",
       "                                                                  140000  USD              140000         US                  100           US                M                1\n",
       "                                                                  144000  USD              144000         US                  100           US                M                1\n",
       "2023       SE                FT               Research Scientist  370000  USD              370000         US                  0             US                M                1\n",
       "Name: count, Length: 2584, dtype: int64"
      ]
     },
     "execution_count": 42,
     "metadata": {},
     "output_type": "execute_result"
    }
   ],
   "source": [
    "df[['work_year', 'experience_level', 'employment_type', 'job_title','salary', 'salary_currency', 'salary_in_usd', 'employee_residence','remote_ratio', 'company_location', 'company_size']].value_counts()"
   ]
  },
  {
   "cell_type": "code",
   "execution_count": 43,
   "metadata": {},
   "outputs": [],
   "source": [
    "df.drop_duplicates(inplace=True) #Elimina los duplicados \n"
   ]
  },
  {
   "cell_type": "code",
   "execution_count": 45,
   "metadata": {},
   "outputs": [
    {
     "data": {
      "text/plain": [
       "(2584, 11)"
      ]
     },
     "execution_count": 45,
     "metadata": {},
     "output_type": "execute_result"
    }
   ],
   "source": [
    "df.shape"
   ]
  },
  {
   "cell_type": "markdown",
   "metadata": {},
   "source": [
    "# EDA"
   ]
  },
  {
   "cell_type": "code",
   "execution_count": 46,
   "metadata": {},
   "outputs": [
    {
     "data": {
      "text/html": [
       "<div>\n",
       "<style scoped>\n",
       "    .dataframe tbody tr th:only-of-type {\n",
       "        vertical-align: middle;\n",
       "    }\n",
       "\n",
       "    .dataframe tbody tr th {\n",
       "        vertical-align: top;\n",
       "    }\n",
       "\n",
       "    .dataframe thead th {\n",
       "        text-align: right;\n",
       "    }\n",
       "</style>\n",
       "<table border=\"1\" class=\"dataframe\">\n",
       "  <thead>\n",
       "    <tr style=\"text-align: right;\">\n",
       "      <th></th>\n",
       "      <th>work_year</th>\n",
       "      <th>experience_level</th>\n",
       "      <th>employment_type</th>\n",
       "      <th>job_title</th>\n",
       "      <th>salary</th>\n",
       "      <th>salary_currency</th>\n",
       "      <th>salary_in_usd</th>\n",
       "      <th>employee_residence</th>\n",
       "      <th>remote_ratio</th>\n",
       "      <th>company_location</th>\n",
       "      <th>company_size</th>\n",
       "    </tr>\n",
       "  </thead>\n",
       "  <tbody>\n",
       "    <tr>\n",
       "      <th>0</th>\n",
       "      <td>2023</td>\n",
       "      <td>SE</td>\n",
       "      <td>FT</td>\n",
       "      <td>Principal Data Scientist</td>\n",
       "      <td>80000</td>\n",
       "      <td>EUR</td>\n",
       "      <td>85847</td>\n",
       "      <td>ES</td>\n",
       "      <td>100</td>\n",
       "      <td>ES</td>\n",
       "      <td>L</td>\n",
       "    </tr>\n",
       "  </tbody>\n",
       "</table>\n",
       "</div>"
      ],
      "text/plain": [
       "   work_year experience_level employment_type                 job_title  \\\n",
       "0       2023               SE              FT  Principal Data Scientist   \n",
       "\n",
       "   salary salary_currency  salary_in_usd employee_residence  remote_ratio  \\\n",
       "0   80000             EUR          85847                 ES           100   \n",
       "\n",
       "  company_location company_size  \n",
       "0               ES            L  "
      ]
     },
     "execution_count": 46,
     "metadata": {},
     "output_type": "execute_result"
    }
   ],
   "source": [
    "df.head(1)"
   ]
  },
  {
   "cell_type": "markdown",
   "metadata": {},
   "source": [
    "¿De que pais son la mayoria de compañias?"
   ]
  },
  {
   "cell_type": "code",
   "execution_count": 66,
   "metadata": {},
   "outputs": [
    {
     "data": {
      "text/plain": [
       "company_location\n",
       "US    1929\n",
       "GB     155\n",
       "CA      83\n",
       "IN      57\n",
       "DE      55\n",
       "      ... \n",
       "MK       1\n",
       "BS       1\n",
       "IR       1\n",
       "CR       1\n",
       "MT       1\n",
       "Name: count, Length: 72, dtype: int64"
      ]
     },
     "execution_count": 66,
     "metadata": {},
     "output_type": "execute_result"
    }
   ],
   "source": [
    "df[\"company_location\"].value_counts()\n"
   ]
  },
  {
   "cell_type": "markdown",
   "metadata": {},
   "source": [
    "¿En que puesto se gana mas?"
   ]
  },
  {
   "cell_type": "code",
   "execution_count": 60,
   "metadata": {},
   "outputs": [
    {
     "data": {
      "text/plain": [
       "job_title    Staff Data Scientist\n",
       "salary                   30400000\n",
       "dtype: object"
      ]
     },
     "execution_count": 60,
     "metadata": {},
     "output_type": "execute_result"
    }
   ],
   "source": [
    "df[[\"job_title\",\"salary\"]].max()"
   ]
  },
  {
   "cell_type": "markdown",
   "metadata": {},
   "source": [
    "Tipo de trabajo, pais de residencia donde mas se cobra?"
   ]
  },
  {
   "cell_type": "code",
   "execution_count": 59,
   "metadata": {},
   "outputs": [
    {
     "data": {
      "text/plain": [
       "company_location                      VN\n",
       "salary                          30400000\n",
       "job_title           Staff Data Scientist\n",
       "dtype: object"
      ]
     },
     "execution_count": 59,
     "metadata": {},
     "output_type": "execute_result"
    }
   ],
   "source": [
    "df[[\"company_location\",\"salary\",\"job_title\"]].max()"
   ]
  },
  {
   "cell_type": "markdown",
   "metadata": {},
   "source": [
    "¿El nivel de  experiencia es proporcional al salario?"
   ]
  },
  {
   "cell_type": "code",
   "execution_count": 99,
   "metadata": {},
   "outputs": [
    {
     "data": {
      "text/plain": [
       "0       SE\n",
       "1       MI\n",
       "2       MI\n",
       "3       SE\n",
       "4       SE\n",
       "        ..\n",
       "3750    SE\n",
       "3751    MI\n",
       "3752    EN\n",
       "3753    EN\n",
       "3754    SE\n",
       "Name: experience_level, Length: 2584, dtype: object"
      ]
     },
     "execution_count": 99,
     "metadata": {},
     "output_type": "execute_result"
    }
   ],
   "source": [
    "\n",
    "df[\"experience_level\"]"
   ]
  },
  {
   "cell_type": "markdown",
   "metadata": {},
   "source": [
    "¿Cuanto se cobra de media por cada nivel de experiencia?"
   ]
  },
  {
   "cell_type": "code",
   "execution_count": 104,
   "metadata": {},
   "outputs": [
    {
     "ename": "ValueError",
     "evalue": "'salary' is both an index level and a column label, which is ambiguous.",
     "output_type": "error",
     "traceback": [
      "\u001b[1;31m---------------------------------------------------------------------------\u001b[0m",
      "\u001b[1;31mValueError\u001b[0m                                Traceback (most recent call last)",
      "\u001b[1;32m~\\AppData\\Local\\Temp\\ipykernel_15956\\2212496061.py\u001b[0m in \u001b[0;36m?\u001b[1;34m()\u001b[0m\n\u001b[1;32m----> 1\u001b[1;33m \u001b[0mdf\u001b[0m\u001b[1;33m.\u001b[0m\u001b[0mgroupby\u001b[0m\u001b[1;33m(\u001b[0m\u001b[1;33m[\u001b[0m\u001b[1;34m\"experience_level\"\u001b[0m\u001b[1;33m,\u001b[0m\u001b[1;34m\"salary\"\u001b[0m\u001b[1;33m]\u001b[0m\u001b[1;33m)\u001b[0m\u001b[1;33m.\u001b[0m\u001b[0magg\u001b[0m\u001b[1;33m(\u001b[0m\u001b[1;33m{\u001b[0m\u001b[1;34m\"salary\"\u001b[0m\u001b[1;33m:\u001b[0m\u001b[1;34m\"mean\"\u001b[0m\u001b[1;33m}\u001b[0m\u001b[1;33m)\u001b[0m\u001b[1;33m.\u001b[0m\u001b[0mround\u001b[0m\u001b[1;33m(\u001b[0m\u001b[1;36m2\u001b[0m\u001b[1;33m)\u001b[0m\u001b[1;33m.\u001b[0m\u001b[0msort_values\u001b[0m\u001b[1;33m(\u001b[0m\u001b[0mby\u001b[0m\u001b[1;33m=\u001b[0m\u001b[1;33m[\u001b[0m\u001b[1;34m\"experience_level\"\u001b[0m\u001b[1;33m,\u001b[0m\u001b[1;34m\"salary\"\u001b[0m\u001b[1;33m]\u001b[0m\u001b[1;33m,\u001b[0m\u001b[0mascending\u001b[0m\u001b[1;33m=\u001b[0m\u001b[1;32mFalse\u001b[0m\u001b[1;33m)\u001b[0m\u001b[1;33m\u001b[0m\u001b[1;33m\u001b[0m\u001b[0m\n\u001b[0m",
      "\u001b[1;32m~\\AppData\\Local\\Packages\\PythonSoftwareFoundation.Python.3.11_qbz5n2kfra8p0\\LocalCache\\local-packages\\Python311\\site-packages\\pandas\\core\\frame.py\u001b[0m in \u001b[0;36m?\u001b[1;34m(self, by, axis, ascending, inplace, kind, na_position, ignore_index, key)\u001b[0m\n\u001b[0;32m   7168\u001b[0m                 \u001b[1;34mf\"Length of ascending ({len(ascending)})\"\u001b[0m  \u001b[1;31m# type: ignore[arg-type]\u001b[0m\u001b[1;33m\u001b[0m\u001b[1;33m\u001b[0m\u001b[0m\n\u001b[0;32m   7169\u001b[0m                 \u001b[1;34mf\" != length of by ({len(by)})\"\u001b[0m\u001b[1;33m\u001b[0m\u001b[1;33m\u001b[0m\u001b[0m\n\u001b[0;32m   7170\u001b[0m             )\n\u001b[0;32m   7171\u001b[0m         \u001b[1;32mif\u001b[0m \u001b[0mlen\u001b[0m\u001b[1;33m(\u001b[0m\u001b[0mby\u001b[0m\u001b[1;33m)\u001b[0m \u001b[1;33m>\u001b[0m \u001b[1;36m1\u001b[0m\u001b[1;33m:\u001b[0m\u001b[1;33m\u001b[0m\u001b[1;33m\u001b[0m\u001b[0m\n\u001b[1;32m-> 7172\u001b[1;33m             \u001b[0mkeys\u001b[0m \u001b[1;33m=\u001b[0m \u001b[1;33m[\u001b[0m\u001b[0mself\u001b[0m\u001b[1;33m.\u001b[0m\u001b[0m_get_label_or_level_values\u001b[0m\u001b[1;33m(\u001b[0m\u001b[0mx\u001b[0m\u001b[1;33m,\u001b[0m \u001b[0maxis\u001b[0m\u001b[1;33m=\u001b[0m\u001b[0maxis\u001b[0m\u001b[1;33m)\u001b[0m \u001b[1;32mfor\u001b[0m \u001b[0mx\u001b[0m \u001b[1;32min\u001b[0m \u001b[0mby\u001b[0m\u001b[1;33m]\u001b[0m\u001b[1;33m\u001b[0m\u001b[1;33m\u001b[0m\u001b[0m\n\u001b[0m\u001b[0;32m   7173\u001b[0m \u001b[1;33m\u001b[0m\u001b[0m\n\u001b[0;32m   7174\u001b[0m             \u001b[1;31m# need to rewrap columns in Series to apply key function\u001b[0m\u001b[1;33m\u001b[0m\u001b[1;33m\u001b[0m\u001b[0m\n\u001b[0;32m   7175\u001b[0m             \u001b[1;32mif\u001b[0m \u001b[0mkey\u001b[0m \u001b[1;32mis\u001b[0m \u001b[1;32mnot\u001b[0m \u001b[1;32mNone\u001b[0m\u001b[1;33m:\u001b[0m\u001b[1;33m\u001b[0m\u001b[1;33m\u001b[0m\u001b[0m\n",
      "\u001b[1;32m~\\AppData\\Local\\Packages\\PythonSoftwareFoundation.Python.3.11_qbz5n2kfra8p0\\LocalCache\\local-packages\\Python311\\site-packages\\pandas\\core\\frame.py\u001b[0m in \u001b[0;36m?\u001b[1;34m(.0)\u001b[0m\n\u001b[1;32m-> 7172\u001b[1;33m         \u001b[1;33m...\u001b[0m     \u001b[0mkey\u001b[0m\u001b[1;33m=\u001b[0m\u001b[1;32mlambda\u001b[0m \u001b[0mx\u001b[0m\u001b[1;33m:\u001b[0m \u001b[0mnp\u001b[0m\u001b[1;33m.\u001b[0m\u001b[0margsort\u001b[0m\u001b[1;33m(\u001b[0m\u001b[0mindex_natsorted\u001b[0m\u001b[1;33m(\u001b[0m\u001b[0mdf\u001b[0m\u001b[1;33m[\u001b[0m\u001b[1;34m\"time\"\u001b[0m\u001b[1;33m]\u001b[0m\u001b[1;33m)\u001b[0m\u001b[1;33m)\u001b[0m\u001b[1;33m\u001b[0m\u001b[1;33m\u001b[0m\u001b[0m\n\u001b[0m",
      "\u001b[1;32m~\\AppData\\Local\\Packages\\PythonSoftwareFoundation.Python.3.11_qbz5n2kfra8p0\\LocalCache\\local-packages\\Python311\\site-packages\\pandas\\core\\generic.py\u001b[0m in \u001b[0;36m?\u001b[1;34m(self, key, axis)\u001b[0m\n\u001b[0;32m   1902\u001b[0m         \u001b[0maxis\u001b[0m \u001b[1;33m=\u001b[0m \u001b[0mself\u001b[0m\u001b[1;33m.\u001b[0m\u001b[0m_get_axis_number\u001b[0m\u001b[1;33m(\u001b[0m\u001b[0maxis\u001b[0m\u001b[1;33m)\u001b[0m\u001b[1;33m\u001b[0m\u001b[1;33m\u001b[0m\u001b[0m\n\u001b[0;32m   1903\u001b[0m         \u001b[0mother_axes\u001b[0m \u001b[1;33m=\u001b[0m \u001b[1;33m[\u001b[0m\u001b[0max\u001b[0m \u001b[1;32mfor\u001b[0m \u001b[0max\u001b[0m \u001b[1;32min\u001b[0m \u001b[0mrange\u001b[0m\u001b[1;33m(\u001b[0m\u001b[0mself\u001b[0m\u001b[1;33m.\u001b[0m\u001b[0m_AXIS_LEN\u001b[0m\u001b[1;33m)\u001b[0m \u001b[1;32mif\u001b[0m \u001b[0max\u001b[0m \u001b[1;33m!=\u001b[0m \u001b[0maxis\u001b[0m\u001b[1;33m]\u001b[0m\u001b[1;33m\u001b[0m\u001b[1;33m\u001b[0m\u001b[0m\n\u001b[0;32m   1904\u001b[0m \u001b[1;33m\u001b[0m\u001b[0m\n\u001b[0;32m   1905\u001b[0m         \u001b[1;32mif\u001b[0m \u001b[0mself\u001b[0m\u001b[1;33m.\u001b[0m\u001b[0m_is_label_reference\u001b[0m\u001b[1;33m(\u001b[0m\u001b[0mkey\u001b[0m\u001b[1;33m,\u001b[0m \u001b[0maxis\u001b[0m\u001b[1;33m=\u001b[0m\u001b[0maxis\u001b[0m\u001b[1;33m)\u001b[0m\u001b[1;33m:\u001b[0m\u001b[1;33m\u001b[0m\u001b[1;33m\u001b[0m\u001b[0m\n\u001b[1;32m-> 1906\u001b[1;33m             \u001b[0mself\u001b[0m\u001b[1;33m.\u001b[0m\u001b[0m_check_label_or_level_ambiguity\u001b[0m\u001b[1;33m(\u001b[0m\u001b[0mkey\u001b[0m\u001b[1;33m,\u001b[0m \u001b[0maxis\u001b[0m\u001b[1;33m=\u001b[0m\u001b[0maxis\u001b[0m\u001b[1;33m)\u001b[0m\u001b[1;33m\u001b[0m\u001b[1;33m\u001b[0m\u001b[0m\n\u001b[0m\u001b[0;32m   1907\u001b[0m             \u001b[0mvalues\u001b[0m \u001b[1;33m=\u001b[0m \u001b[0mself\u001b[0m\u001b[1;33m.\u001b[0m\u001b[0mxs\u001b[0m\u001b[1;33m(\u001b[0m\u001b[0mkey\u001b[0m\u001b[1;33m,\u001b[0m \u001b[0maxis\u001b[0m\u001b[1;33m=\u001b[0m\u001b[0mother_axes\u001b[0m\u001b[1;33m[\u001b[0m\u001b[1;36m0\u001b[0m\u001b[1;33m]\u001b[0m\u001b[1;33m)\u001b[0m\u001b[1;33m.\u001b[0m\u001b[0m_values\u001b[0m\u001b[1;33m\u001b[0m\u001b[1;33m\u001b[0m\u001b[0m\n\u001b[0;32m   1908\u001b[0m         \u001b[1;32melif\u001b[0m \u001b[0mself\u001b[0m\u001b[1;33m.\u001b[0m\u001b[0m_is_level_reference\u001b[0m\u001b[1;33m(\u001b[0m\u001b[0mkey\u001b[0m\u001b[1;33m,\u001b[0m \u001b[0maxis\u001b[0m\u001b[1;33m=\u001b[0m\u001b[0maxis\u001b[0m\u001b[1;33m)\u001b[0m\u001b[1;33m:\u001b[0m\u001b[1;33m\u001b[0m\u001b[1;33m\u001b[0m\u001b[0m\n\u001b[0;32m   1909\u001b[0m             \u001b[0mvalues\u001b[0m \u001b[1;33m=\u001b[0m \u001b[0mself\u001b[0m\u001b[1;33m.\u001b[0m\u001b[0maxes\u001b[0m\u001b[1;33m[\u001b[0m\u001b[0maxis\u001b[0m\u001b[1;33m]\u001b[0m\u001b[1;33m.\u001b[0m\u001b[0mget_level_values\u001b[0m\u001b[1;33m(\u001b[0m\u001b[0mkey\u001b[0m\u001b[1;33m)\u001b[0m\u001b[1;33m.\u001b[0m\u001b[0m_values\u001b[0m\u001b[1;33m\u001b[0m\u001b[1;33m\u001b[0m\u001b[0m\n",
      "\u001b[1;32m~\\AppData\\Local\\Packages\\PythonSoftwareFoundation.Python.3.11_qbz5n2kfra8p0\\LocalCache\\local-packages\\Python311\\site-packages\\pandas\\core\\generic.py\u001b[0m in \u001b[0;36m?\u001b[1;34m(self, key, axis)\u001b[0m\n\u001b[0;32m   1864\u001b[0m             msg = (\n\u001b[0;32m   1865\u001b[0m                 \u001b[1;34mf\"'{key}' is both {level_article} {level_type} level and \"\u001b[0m\u001b[1;33m\u001b[0m\u001b[1;33m\u001b[0m\u001b[0m\n\u001b[0;32m   1866\u001b[0m                 \u001b[1;34mf\"{label_article} {label_type} label, which is ambiguous.\"\u001b[0m\u001b[1;33m\u001b[0m\u001b[1;33m\u001b[0m\u001b[0m\n\u001b[0;32m   1867\u001b[0m             )\n\u001b[1;32m-> 1868\u001b[1;33m             \u001b[1;32mraise\u001b[0m \u001b[0mValueError\u001b[0m\u001b[1;33m(\u001b[0m\u001b[0mmsg\u001b[0m\u001b[1;33m)\u001b[0m\u001b[1;33m\u001b[0m\u001b[1;33m\u001b[0m\u001b[0m\n\u001b[0m",
      "\u001b[1;31mValueError\u001b[0m: 'salary' is both an index level and a column label, which is ambiguous."
     ]
    }
   ],
   "source": [
    "df.groupby([\"experience_level\",\"salary\"]).agg({\"salary\":\"mean\"}).round(2).sort_values(by=[\"experience_level\",\"salary\"],ascending=False)"
   ]
  },
  {
   "cell_type": "markdown",
   "metadata": {},
   "source": [
    "¿Por que porcentage promedio se aumenta el salario entre nivel de experiencia"
   ]
  },
  {
   "cell_type": "code",
   "execution_count": null,
   "metadata": {},
   "outputs": [],
   "source": []
  },
  {
   "cell_type": "markdown",
   "metadata": {},
   "source": [
    "en que pais se cobra  mas por tipo de empleo?"
   ]
  },
  {
   "cell_type": "code",
   "execution_count": 101,
   "metadata": {},
   "outputs": [
    {
     "data": {
      "text/html": [
       "<div>\n",
       "<style scoped>\n",
       "    .dataframe tbody tr th:only-of-type {\n",
       "        vertical-align: middle;\n",
       "    }\n",
       "\n",
       "    .dataframe tbody tr th {\n",
       "        vertical-align: top;\n",
       "    }\n",
       "\n",
       "    .dataframe thead th {\n",
       "        text-align: right;\n",
       "    }\n",
       "</style>\n",
       "<table border=\"1\" class=\"dataframe\">\n",
       "  <thead>\n",
       "    <tr style=\"text-align: right;\">\n",
       "      <th></th>\n",
       "      <th></th>\n",
       "      <th>salary</th>\n",
       "    </tr>\n",
       "    <tr>\n",
       "      <th>company_location</th>\n",
       "      <th>job_title</th>\n",
       "      <th></th>\n",
       "    </tr>\n",
       "  </thead>\n",
       "  <tbody>\n",
       "    <tr>\n",
       "      <th>CL</th>\n",
       "      <th>Data Scientist</th>\n",
       "      <td>30400000.0</td>\n",
       "    </tr>\n",
       "    <tr>\n",
       "      <th>HU</th>\n",
       "      <th>Data Scientist</th>\n",
       "      <td>8800000.0</td>\n",
       "    </tr>\n",
       "    <tr>\n",
       "      <th>JP</th>\n",
       "      <th>ML Engineer</th>\n",
       "      <td>7750000.0</td>\n",
       "    </tr>\n",
       "    <tr>\n",
       "      <th rowspan=\"2\" valign=\"top\">IN</th>\n",
       "      <th>Lead Machine Learning Engineer</th>\n",
       "      <td>7500000.0</td>\n",
       "    </tr>\n",
       "    <tr>\n",
       "      <th>Data Science Manager</th>\n",
       "      <td>7000000.0</td>\n",
       "    </tr>\n",
       "    <tr>\n",
       "      <th>...</th>\n",
       "      <th>...</th>\n",
       "      <td>...</td>\n",
       "    </tr>\n",
       "    <tr>\n",
       "      <th>SG</th>\n",
       "      <th>Product Data Scientist</th>\n",
       "      <td>8000.0</td>\n",
       "    </tr>\n",
       "    <tr>\n",
       "      <th>PK</th>\n",
       "      <th>Data Analyst</th>\n",
       "      <td>8000.0</td>\n",
       "    </tr>\n",
       "    <tr>\n",
       "      <th>BO</th>\n",
       "      <th>Analytics Engineer</th>\n",
       "      <td>7500.0</td>\n",
       "    </tr>\n",
       "    <tr>\n",
       "      <th>GH</th>\n",
       "      <th>Autonomous Vehicle Technician</th>\n",
       "      <td>7000.0</td>\n",
       "    </tr>\n",
       "    <tr>\n",
       "      <th>MK</th>\n",
       "      <th>AI Developer</th>\n",
       "      <td>6000.0</td>\n",
       "    </tr>\n",
       "  </tbody>\n",
       "</table>\n",
       "<p>356 rows × 1 columns</p>\n",
       "</div>"
      ],
      "text/plain": [
       "                                                     salary\n",
       "company_location job_title                                 \n",
       "CL               Data Scientist                  30400000.0\n",
       "HU               Data Scientist                   8800000.0\n",
       "JP               ML Engineer                      7750000.0\n",
       "IN               Lead Machine Learning Engineer   7500000.0\n",
       "                 Data Science Manager             7000000.0\n",
       "...                                                     ...\n",
       "SG               Product Data Scientist              8000.0\n",
       "PK               Data Analyst                        8000.0\n",
       "BO               Analytics Engineer                  7500.0\n",
       "GH               Autonomous Vehicle Technician       7000.0\n",
       "MK               AI Developer                        6000.0\n",
       "\n",
       "[356 rows x 1 columns]"
      ]
     },
     "execution_count": 101,
     "metadata": {},
     "output_type": "execute_result"
    }
   ],
   "source": [
    "df.groupby([\"company_location\",\"job_title\"]).agg({\"salary\":\"mean\"}).round(2).sort_values(by=[\"salary\",\"company_location\"],ascending=False)"
   ]
  }
 ],
 "metadata": {
  "kernelspec": {
   "display_name": "Python 3",
   "language": "python",
   "name": "python3"
  },
  "language_info": {
   "codemirror_mode": {
    "name": "ipython",
    "version": 3
   },
   "file_extension": ".py",
   "mimetype": "text/x-python",
   "name": "python",
   "nbconvert_exporter": "python",
   "pygments_lexer": "ipython3",
   "version": "3.11.9"
  }
 },
 "nbformat": 4,
 "nbformat_minor": 2
}
