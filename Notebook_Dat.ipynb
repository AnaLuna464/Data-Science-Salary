{
 "cells": [
  {
   "cell_type": "markdown",
   "metadata": {},
   "source": [
    "# Preprocesamiento "
   ]
  },
  {
   "cell_type": "code",
   "execution_count": 2,
   "metadata": {},
   "outputs": [],
   "source": [
    "import pandas as pd\n",
    "import numpy as np"
   ]
  },
  {
   "cell_type": "code",
   "execution_count": 3,
   "metadata": {},
   "outputs": [],
   "source": [
    "df=pd.read_csv(r'Data/ds_salaries.csv')\n",
    "#esta funcion es para poder hacer que se lea el archivo que se importo. con pandas se busca leer el archivo contenido en una carpeta.\n"
   ]
  },
  {
   "cell_type": "code",
   "execution_count": 4,
   "metadata": {},
   "outputs": [
    {
     "data": {
      "text/html": [
       "<div>\n",
       "<style scoped>\n",
       "    .dataframe tbody tr th:only-of-type {\n",
       "        vertical-align: middle;\n",
       "    }\n",
       "\n",
       "    .dataframe tbody tr th {\n",
       "        vertical-align: top;\n",
       "    }\n",
       "\n",
       "    .dataframe thead th {\n",
       "        text-align: right;\n",
       "    }\n",
       "</style>\n",
       "<table border=\"1\" class=\"dataframe\">\n",
       "  <thead>\n",
       "    <tr style=\"text-align: right;\">\n",
       "      <th></th>\n",
       "      <th>work_year</th>\n",
       "      <th>experience_level</th>\n",
       "      <th>employment_type</th>\n",
       "      <th>job_title</th>\n",
       "      <th>salary</th>\n",
       "      <th>salary_currency</th>\n",
       "      <th>salary_in_usd</th>\n",
       "      <th>employee_residence</th>\n",
       "      <th>remote_ratio</th>\n",
       "      <th>company_location</th>\n",
       "      <th>company_size</th>\n",
       "    </tr>\n",
       "  </thead>\n",
       "  <tbody>\n",
       "    <tr>\n",
       "      <th>0</th>\n",
       "      <td>2023</td>\n",
       "      <td>SE</td>\n",
       "      <td>FT</td>\n",
       "      <td>Principal Data Scientist</td>\n",
       "      <td>80000</td>\n",
       "      <td>EUR</td>\n",
       "      <td>85847</td>\n",
       "      <td>ES</td>\n",
       "      <td>100</td>\n",
       "      <td>ES</td>\n",
       "      <td>L</td>\n",
       "    </tr>\n",
       "    <tr>\n",
       "      <th>1</th>\n",
       "      <td>2023</td>\n",
       "      <td>MI</td>\n",
       "      <td>CT</td>\n",
       "      <td>ML Engineer</td>\n",
       "      <td>30000</td>\n",
       "      <td>USD</td>\n",
       "      <td>30000</td>\n",
       "      <td>US</td>\n",
       "      <td>100</td>\n",
       "      <td>US</td>\n",
       "      <td>S</td>\n",
       "    </tr>\n",
       "    <tr>\n",
       "      <th>2</th>\n",
       "      <td>2023</td>\n",
       "      <td>MI</td>\n",
       "      <td>CT</td>\n",
       "      <td>ML Engineer</td>\n",
       "      <td>25500</td>\n",
       "      <td>USD</td>\n",
       "      <td>25500</td>\n",
       "      <td>US</td>\n",
       "      <td>100</td>\n",
       "      <td>US</td>\n",
       "      <td>S</td>\n",
       "    </tr>\n",
       "  </tbody>\n",
       "</table>\n",
       "</div>"
      ],
      "text/plain": [
       "   work_year experience_level employment_type                 job_title  \\\n",
       "0       2023               SE              FT  Principal Data Scientist   \n",
       "1       2023               MI              CT               ML Engineer   \n",
       "2       2023               MI              CT               ML Engineer   \n",
       "\n",
       "   salary salary_currency  salary_in_usd employee_residence  remote_ratio  \\\n",
       "0   80000             EUR          85847                 ES           100   \n",
       "1   30000             USD          30000                 US           100   \n",
       "2   25500             USD          25500                 US           100   \n",
       "\n",
       "  company_location company_size  \n",
       "0               ES            L  \n",
       "1               US            S  \n",
       "2               US            S  "
      ]
     },
     "execution_count": 4,
     "metadata": {},
     "output_type": "execute_result"
    }
   ],
   "source": [
    "df.head(3)\n"
   ]
  },
  {
   "cell_type": "code",
   "execution_count": 5,
   "metadata": {},
   "outputs": [
    {
     "data": {
      "text/plain": [
       "Index(['work_year', 'experience_level', 'employment_type', 'job_title',\n",
       "       'salary', 'salary_currency', 'salary_in_usd', 'employee_residence',\n",
       "       'remote_ratio', 'company_location', 'company_size'],\n",
       "      dtype='object')"
      ]
     },
     "execution_count": 5,
     "metadata": {},
     "output_type": "execute_result"
    }
   ],
   "source": [
    "df.columns # te dice las columnas que se tienen "
   ]
  },
  {
   "cell_type": "code",
   "execution_count": 6,
   "metadata": {},
   "outputs": [
    {
     "data": {
      "text/plain": [
       "(3755, 11)"
      ]
     },
     "execution_count": 6,
     "metadata": {},
     "output_type": "execute_result"
    }
   ],
   "source": [
    "df.shape #saber las dimensiones y son 3755 filas [0] y 11 columnas[1]"
   ]
  },
  {
   "cell_type": "code",
   "execution_count": 7,
   "metadata": {},
   "outputs": [
    {
     "data": {
      "text/plain": [
       "work_year              int64\n",
       "experience_level      object\n",
       "employment_type       object\n",
       "job_title             object\n",
       "salary                 int64\n",
       "salary_currency       object\n",
       "salary_in_usd          int64\n",
       "employee_residence    object\n",
       "remote_ratio           int64\n",
       "company_location      object\n",
       "company_size          object\n",
       "dtype: object"
      ]
     },
     "execution_count": 7,
     "metadata": {},
     "output_type": "execute_result"
    }
   ],
   "source": [
    "df.dtypes #par saber los tipos de datos (object es string)\n"
   ]
  },
  {
   "cell_type": "code",
   "execution_count": 8,
   "metadata": {},
   "outputs": [
    {
     "data": {
      "text/plain": [
       "work_year             0\n",
       "experience_level      0\n",
       "employment_type       0\n",
       "job_title             0\n",
       "salary                0\n",
       "salary_currency       0\n",
       "salary_in_usd         0\n",
       "employee_residence    0\n",
       "remote_ratio          0\n",
       "company_location      0\n",
       "company_size          0\n",
       "dtype: int64"
      ]
     },
     "execution_count": 8,
     "metadata": {},
     "output_type": "execute_result"
    }
   ],
   "source": [
    "df.isnull().sum() \n",
    "#Para saber los valores nulos! ES IMPORTANTE PONER .SUM() para que de esta manera me de los 0 de lo contrario va a dar toda la tabla con valores booleanos.\n"
   ]
  },
  {
   "cell_type": "code",
   "execution_count": 9,
   "metadata": {},
   "outputs": [
    {
     "data": {
      "text/plain": [
       "1171"
      ]
     },
     "execution_count": 9,
     "metadata": {},
     "output_type": "execute_result"
    }
   ],
   "source": [
    "df.duplicated().sum() #Para saber los duplicaados que existen en mi base"
   ]
  },
  {
   "cell_type": "code",
   "execution_count": 10,
   "metadata": {},
   "outputs": [
    {
     "data": {
      "text/html": [
       "<div>\n",
       "<style scoped>\n",
       "    .dataframe tbody tr th:only-of-type {\n",
       "        vertical-align: middle;\n",
       "    }\n",
       "\n",
       "    .dataframe tbody tr th {\n",
       "        vertical-align: top;\n",
       "    }\n",
       "\n",
       "    .dataframe thead th {\n",
       "        text-align: right;\n",
       "    }\n",
       "</style>\n",
       "<table border=\"1\" class=\"dataframe\">\n",
       "  <thead>\n",
       "    <tr style=\"text-align: right;\">\n",
       "      <th></th>\n",
       "      <th></th>\n",
       "      <th></th>\n",
       "      <th></th>\n",
       "      <th></th>\n",
       "      <th></th>\n",
       "      <th></th>\n",
       "      <th></th>\n",
       "      <th></th>\n",
       "      <th></th>\n",
       "      <th></th>\n",
       "    </tr>\n",
       "    <tr>\n",
       "      <th>work_year</th>\n",
       "      <th>experience_level</th>\n",
       "      <th>employment_type</th>\n",
       "      <th>job_title</th>\n",
       "      <th>salary</th>\n",
       "      <th>salary_currency</th>\n",
       "      <th>salary_in_usd</th>\n",
       "      <th>employee_residence</th>\n",
       "      <th>remote_ratio</th>\n",
       "      <th>company_location</th>\n",
       "      <th>company_size</th>\n",
       "    </tr>\n",
       "  </thead>\n",
       "  <tbody>\n",
       "    <tr>\n",
       "      <th rowspan=\"5\" valign=\"top\">2020</th>\n",
       "      <th rowspan=\"5\" valign=\"top\">EN</th>\n",
       "      <th>CT</th>\n",
       "      <th>Business Data Analyst</th>\n",
       "      <th>100000</th>\n",
       "      <th>USD</th>\n",
       "      <th>100000</th>\n",
       "      <th>US</th>\n",
       "      <th>100</th>\n",
       "      <th>US</th>\n",
       "      <th>L</th>\n",
       "    </tr>\n",
       "    <tr>\n",
       "      <th rowspan=\"4\" valign=\"top\">FT</th>\n",
       "      <th>AI Scientist</th>\n",
       "      <th>300000</th>\n",
       "      <th>DKK</th>\n",
       "      <th>45896</th>\n",
       "      <th>DK</th>\n",
       "      <th>50</th>\n",
       "      <th>DK</th>\n",
       "      <th>S</th>\n",
       "    </tr>\n",
       "    <tr>\n",
       "      <th>Big Data Engineer</th>\n",
       "      <th>70000</th>\n",
       "      <th>USD</th>\n",
       "      <th>70000</th>\n",
       "      <th>US</th>\n",
       "      <th>100</th>\n",
       "      <th>US</th>\n",
       "      <th>L</th>\n",
       "    </tr>\n",
       "    <tr>\n",
       "      <th rowspan=\"2\" valign=\"top\">Data Analyst</th>\n",
       "      <th>10000</th>\n",
       "      <th>USD</th>\n",
       "      <th>10000</th>\n",
       "      <th>NG</th>\n",
       "      <th>100</th>\n",
       "      <th>NG</th>\n",
       "      <th>S</th>\n",
       "    </tr>\n",
       "    <tr>\n",
       "      <th>20000</th>\n",
       "      <th>EUR</th>\n",
       "      <th>22809</th>\n",
       "      <th>PT</th>\n",
       "      <th>100</th>\n",
       "      <th>PT</th>\n",
       "      <th>M</th>\n",
       "    </tr>\n",
       "    <tr>\n",
       "      <th>...</th>\n",
       "      <th>...</th>\n",
       "      <th>...</th>\n",
       "      <th>...</th>\n",
       "      <th>...</th>\n",
       "      <th>...</th>\n",
       "      <th>...</th>\n",
       "      <th>...</th>\n",
       "      <th>...</th>\n",
       "      <th>...</th>\n",
       "      <th>...</th>\n",
       "    </tr>\n",
       "    <tr>\n",
       "      <th rowspan=\"5\" valign=\"top\">2023</th>\n",
       "      <th rowspan=\"5\" valign=\"top\">SE</th>\n",
       "      <th rowspan=\"5\" valign=\"top\">FT</th>\n",
       "      <th rowspan=\"5\" valign=\"top\">Research Scientist</th>\n",
       "      <th rowspan=\"2\" valign=\"top\">248100</th>\n",
       "      <th rowspan=\"2\" valign=\"top\">USD</th>\n",
       "      <th rowspan=\"2\" valign=\"top\">248100</th>\n",
       "      <th>CA</th>\n",
       "      <th>0</th>\n",
       "      <th>CA</th>\n",
       "      <th>M</th>\n",
       "    </tr>\n",
       "    <tr>\n",
       "      <th>US</th>\n",
       "      <th>0</th>\n",
       "      <th>US</th>\n",
       "      <th>M</th>\n",
       "    </tr>\n",
       "    <tr>\n",
       "      <th>250000</th>\n",
       "      <th>USD</th>\n",
       "      <th>250000</th>\n",
       "      <th>US</th>\n",
       "      <th>0</th>\n",
       "      <th>US</th>\n",
       "      <th>M</th>\n",
       "    </tr>\n",
       "    <tr>\n",
       "      <th>253750</th>\n",
       "      <th>USD</th>\n",
       "      <th>253750</th>\n",
       "      <th>ES</th>\n",
       "      <th>0</th>\n",
       "      <th>ES</th>\n",
       "      <th>M</th>\n",
       "    </tr>\n",
       "    <tr>\n",
       "      <th>370000</th>\n",
       "      <th>USD</th>\n",
       "      <th>370000</th>\n",
       "      <th>US</th>\n",
       "      <th>0</th>\n",
       "      <th>US</th>\n",
       "      <th>M</th>\n",
       "    </tr>\n",
       "  </tbody>\n",
       "</table>\n",
       "<p>2584 rows × 0 columns</p>\n",
       "</div>"
      ],
      "text/plain": [
       "Empty DataFrame\n",
       "Columns: []\n",
       "Index: [(2020, EN, CT, Business Data Analyst, 100000, USD, 100000, US, 100, US, L), (2020, EN, FT, AI Scientist, 300000, DKK, 45896, DK, 50, DK, S), (2020, EN, FT, Big Data Engineer, 70000, USD, 70000, US, 100, US, L), (2020, EN, FT, Data Analyst, 10000, USD, 10000, NG, 100, NG, S), (2020, EN, FT, Data Analyst, 20000, EUR, 22809, PT, 100, PT, M), (2020, EN, FT, Data Analyst, 72000, USD, 72000, US, 100, US, L), (2020, EN, FT, Data Analyst, 91000, USD, 91000, US, 100, US, L), (2020, EN, FT, Data Analyst, 450000, INR, 6072, IN, 0, IN, S), (2020, EN, FT, Data Engineer, 48000, EUR, 54742, PK, 100, DE, L), (2020, EN, FT, Data Engineer, 1000000, INR, 13493, IN, 100, IN, L), (2020, EN, FT, Data Engineer, 4450000, JPY, 41689, JP, 100, JP, S), (2020, EN, FT, Data Science Consultant, 423000, INR, 5707, IN, 50, IN, M), (2020, EN, FT, Data Scientist, 35000, EUR, 39916, FR, 0, FR, M), (2020, EN, FT, Data Scientist, 43200, EUR, 49268, DE, 0, DE, S), (2020, EN, FT, Data Scientist, 45000, EUR, 51321, FR, 0, FR, S), (2020, EN, FT, Data Scientist, 55000, EUR, 62726, DE, 50, DE, S), (2020, EN, FT, Data Scientist, 105000, USD, 105000, US, 100, US, S), (2020, EN, FT, Machine Learning Engineer, 138000, USD, 138000, US, 100, US, S), (2020, EN, FT, Machine Learning Engineer, 250000, USD, 250000, US, 50, US, L), (2020, EN, FT, Research Scientist, 42000, USD, 42000, NL, 50, NL, L), (2020, EN, PT, Data Scientist, 19000, EUR, 21669, IT, 50, IT, S), (2020, EN, PT, ML Engineer, 14000, EUR, 15966, DE, 100, DE, S), (2020, EX, FT, Data Engineer, 70000, EUR, 79833, ES, 50, ES, L), (2020, EX, FT, Director of Data Science, 325000, USD, 325000, US, 100, US, L), (2020, EX, FT, Staff Data Analyst, 15000, USD, 15000, NG, 0, CA, M), (2020, MI, FT, BI Data Analyst, 98000, USD, 98000, US, 0, US, M), (2020, MI, FT, Business Data Analyst, 95000, USD, 95000, US, 0, US, M), (2020, MI, FT, Business Data Analyst, 135000, USD, 135000, US, 100, US, L), (2020, MI, FT, Data Analyst, 8000, USD, 8000, PK, 50, PK, L), (2020, MI, FT, Data Analyst, 41000, EUR, 46759, FR, 50, FR, L), (2020, MI, FT, Data Analyst, 85000, USD, 85000, US, 100, US, L), (2020, MI, FT, Data Engineer, 51999, EUR, 59303, DE, 100, DE, S), (2020, MI, FT, Data Engineer, 61500, EUR, 70139, FR, 50, FR, L), (2020, MI, FT, Data Engineer, 65000, EUR, 74130, AT, 50, AT, L), (2020, MI, FT, Data Engineer, 88000, GBP, 112872, GB, 50, GB, L), (2020, MI, FT, Data Engineer, 106000, USD, 106000, US, 100, US, L), (2020, MI, FT, Data Engineer, 110000, USD, 110000, US, 100, US, L), (2020, MI, FT, Data Engineer, 130800, USD, 130800, ES, 100, US, M), (2020, MI, FT, Data Science Consultant, 103000, USD, 103000, US, 100, US, L), (2020, MI, FT, Data Scientist, 34000, EUR, 38776, ES, 100, ES, M), (2020, MI, FT, Data Scientist, 37000, EUR, 42197, FR, 50, FR, S), (2020, MI, FT, Data Scientist, 45760, USD, 45760, PH, 100, US, S), (2020, MI, FT, Data Scientist, 55000, EUR, 62726, FR, 50, LU, S), (2020, MI, FT, Data Scientist, 60000, GBP, 76958, GB, 100, GB, S), (2020, MI, FT, Data Scientist, 70000, EUR, 79833, DE, 0, DE, L), (2020, MI, FT, Data Scientist, 105000, USD, 105000, US, 100, US, L), (2020, MI, FT, Data Scientist, 118000, USD, 118000, US, 100, US, M), (2020, MI, FT, Data Scientist, 138350, USD, 138350, US, 100, US, M), (2020, MI, FT, Data Scientist, 3000000, INR, 40481, IN, 0, IN, L), (2020, MI, FT, Data Scientist, 11000000, HUF, 35735, HU, 50, HU, L), (2020, MI, FT, Lead Data Analyst, 87000, USD, 87000, US, 100, US, L), (2020, MI, FT, Lead Data Engineer, 56000, USD, 56000, PT, 100, US, M), (2020, MI, FT, Lead Data Scientist, 115000, USD, 115000, AE, 0, AE, L), (2020, MI, FT, Machine Learning Infrastructure Engineer, 44000, EUR, 50180, PT, 0, PT, M), (2020, MI, FT, Product Data Analyst, 20000, USD, 20000, HN, 0, HN, S), (2020, MI, FT, Product Data Analyst, 450000, INR, 6072, IN, 100, IN, L), (2020, MI, FT, Research Scientist, 450000, USD, 450000, US, 0, US, M), (2020, SE, FL, Computer Vision Engineer, 60000, USD, 60000, RU, 100, US, S), (2020, SE, FT, Big Data Engineer, 85000, GBP, 109024, GB, 50, GB, M), (2020, SE, FT, Big Data Engineer, 100000, EUR, 114047, PL, 100, GB, S), (2020, SE, FT, Data Engineer, 42000, EUR, 47899, GR, 50, GR, L), (2020, SE, FT, Data Engineer, 188000, USD, 188000, US, 100, US, L), (2020, SE, FT, Data Engineer, 720000, MXN, 33511, MX, 0, MX, S), (2020, SE, FT, Data Science Manager, 190200, USD, 190200, US, 100, US, M), (2020, SE, FT, Data Scientist, 60000, EUR, 68428, GR, 100, US, L), (2020, SE, FT, Data Scientist, 80000, EUR, 91237, AT, 0, AT, S), (2020, SE, FT, Data Scientist, 120000, USD, 120000, US, 50, US, L), (2020, SE, FT, Data Scientist, 412000, USD, 412000, US, 100, US, L), (2020, SE, FT, Lead Data Engineer, 125000, USD, 125000, NZ, 50, NZ, S), (2020, SE, FT, Lead Data Scientist, 190000, USD, 190000, US, 100, US, S), (2020, SE, FT, Machine Learning Engineer, 40000, EUR, 45618, HR, 100, HR, S), (2020, SE, FT, Machine Learning Engineer, 150000, USD, 150000, US, 50, US, L), (2020, SE, FT, Machine Learning Manager, 157000, CAD, 117104, CA, 50, CA, L), (2020, SE, FT, Machine Learning Scientist, 260000, USD, 260000, JP, 0, JP, S), (2020, SE, FT, Principal Data Scientist, 130000, EUR, 148261, DE, 100, DE, M), (2021, EN, FT, 3D Computer Vision Researcher, 20000, USD, 20000, AS, 0, AS, M), (2021, EN, FT, AI Scientist, 1335000, INR, 18053, IN, 100, AS, S), (2021, EN, FT, Applied Data Scientist, 80000, GBP, 110037, GB, 0, GB, L), (2021, EN, FT, BI Data Analyst, 9272, USD, 9272, KE, 100, KE, S), (2021, EN, FT, BI Data Analyst, 55000, USD, 55000, US, 50, US, S), (2021, EN, FT, Big Data Engineer, 435000, INR, 5882, IN, 0, CH, L), (2021, EN, FT, Big Data Engineer, 1200000, INR, 16228, IN, 100, IN, L), (2021, EN, FT, Business Data Analyst, 50000, EUR, 59102, LU, 100, LU, L), (2021, EN, FT, Computer Vision Software Engineer, 70000, USD, 70000, US, 100, US, M), (2021, EN, FT, Data Analyst, 50000, EUR, 59102, FR, 50, FR, M), (2021, EN, FT, Data Analyst, 50000, USD, 50000, US, 100, US, M), (2021, EN, FT, Data Analyst, 56000, AUD, 42028, AU, 50, AU, L), (2021, EN, FT, Data Analyst, 60000, USD, 60000, US, 100, US, S), (2021, EN, FT, Data Analyst, 80000, USD, 80000, US, 100, US, M), (2021, EN, FT, Data Analyst, 90000, USD, 90000, US, 100, US, S), (2021, EN, FT, Data Engineer, 33000, GBP, 45390, GB, 50, GB, L), (2021, EN, FT, Data Engineer, 55000, EUR, 65013, DE, 50, DE, M), (2021, EN, FT, Data Engineer, 72500, USD, 72500, US, 100, US, L), (2021, EN, FT, Data Engineer, 80000, USD, 80000, US, 100, US, L), (2021, EN, FT, Data Engineer, 1600000, INR, 21637, IN, 50, IN, M), (2021, EN, FT, Data Engineer, 2250000, INR, 30428, IN, 100, IN, L), (2021, EN, FT, Data Science Consultant, 54000, EUR, 63831, DE, 50, DE, L), (2021, EN, FT, Data Science Consultant, 65000, EUR, 76833, DE, 0, DE, L), (2021, EN, FT, Data Science Consultant, 65000, EUR, 76833, DE, 100, DE, S), (2021, EN, FT, Data Science Consultant, 90000, USD, 90000, US, 100, US, S), ...]\n",
       "\n",
       "[2584 rows x 0 columns]"
      ]
     },
     "execution_count": 10,
     "metadata": {},
     "output_type": "execute_result"
    }
   ],
   "source": [
    "#vamos a crear una funcion que nos permita saber la cantidad de datos repetidos que tenemos por coincidencia de indice \n",
    "df.groupby(['work_year', 'experience_level', 'employment_type', \n",
    "            'job_title','salary', 'salary_currency', 'salary_in_usd', 'employee_residence',\n",
    "            'remote_ratio', 'company_location', 'company_size']).sum()\n",
    "\n"
   ]
  },
  {
   "cell_type": "code",
   "execution_count": 11,
   "metadata": {},
   "outputs": [
    {
     "data": {
      "text/plain": [
       "work_year  experience_level  employment_type  job_title           salary  salary_currency  salary_in_usd  employee_residence  remote_ratio  company_location  company_size\n",
       "2022       SE                FT               Data Scientist      191475  USD              191475         US                  100           US                M               21\n",
       "                                                                  141525  USD              141525         US                  100           US                M               21\n",
       "2023       SE                FT               Data Engineer       252000  USD              252000         US                  0             US                M               13\n",
       "                                                                  129000  USD              129000         US                  0             US                M               13\n",
       "2022       SE                FT               Data Engineer       130000  USD              130000         US                  0             US                M               12\n",
       "                                                                                                                                                                              ..\n",
       "                                              Data Analyst        136600  USD              136600         US                  100           US                M                1\n",
       "                                                                  139600  USD              139600         US                  0             US                M                1\n",
       "                                                                  140000  USD              140000         US                  100           US                M                1\n",
       "                                                                  144000  USD              144000         US                  100           US                M                1\n",
       "2023       SE                FT               Research Scientist  370000  USD              370000         US                  0             US                M                1\n",
       "Name: count, Length: 2584, dtype: int64"
      ]
     },
     "execution_count": 11,
     "metadata": {},
     "output_type": "execute_result"
    }
   ],
   "source": [
    "df[['work_year', 'experience_level', 'employment_type', 'job_title','salary', 'salary_currency', 'salary_in_usd', 'employee_residence','remote_ratio', 'company_location', 'company_size']].value_counts()"
   ]
  },
  {
   "cell_type": "code",
   "execution_count": 12,
   "metadata": {},
   "outputs": [],
   "source": [
    "df.drop_duplicates(inplace=True) #Elimina los duplicados \n"
   ]
  },
  {
   "cell_type": "code",
   "execution_count": 13,
   "metadata": {},
   "outputs": [
    {
     "data": {
      "text/plain": [
       "(2584, 11)"
      ]
     },
     "execution_count": 13,
     "metadata": {},
     "output_type": "execute_result"
    }
   ],
   "source": [
    "df.shape"
   ]
  },
  {
   "cell_type": "markdown",
   "metadata": {},
   "source": [
    "# EDA"
   ]
  },
  {
   "cell_type": "code",
   "execution_count": 14,
   "metadata": {},
   "outputs": [
    {
     "data": {
      "text/html": [
       "<div>\n",
       "<style scoped>\n",
       "    .dataframe tbody tr th:only-of-type {\n",
       "        vertical-align: middle;\n",
       "    }\n",
       "\n",
       "    .dataframe tbody tr th {\n",
       "        vertical-align: top;\n",
       "    }\n",
       "\n",
       "    .dataframe thead th {\n",
       "        text-align: right;\n",
       "    }\n",
       "</style>\n",
       "<table border=\"1\" class=\"dataframe\">\n",
       "  <thead>\n",
       "    <tr style=\"text-align: right;\">\n",
       "      <th></th>\n",
       "      <th>work_year</th>\n",
       "      <th>experience_level</th>\n",
       "      <th>employment_type</th>\n",
       "      <th>job_title</th>\n",
       "      <th>salary</th>\n",
       "      <th>salary_currency</th>\n",
       "      <th>salary_in_usd</th>\n",
       "      <th>employee_residence</th>\n",
       "      <th>remote_ratio</th>\n",
       "      <th>company_location</th>\n",
       "      <th>company_size</th>\n",
       "    </tr>\n",
       "  </thead>\n",
       "  <tbody>\n",
       "    <tr>\n",
       "      <th>0</th>\n",
       "      <td>2023</td>\n",
       "      <td>SE</td>\n",
       "      <td>FT</td>\n",
       "      <td>Principal Data Scientist</td>\n",
       "      <td>80000</td>\n",
       "      <td>EUR</td>\n",
       "      <td>85847</td>\n",
       "      <td>ES</td>\n",
       "      <td>100</td>\n",
       "      <td>ES</td>\n",
       "      <td>L</td>\n",
       "    </tr>\n",
       "  </tbody>\n",
       "</table>\n",
       "</div>"
      ],
      "text/plain": [
       "   work_year experience_level employment_type                 job_title  \\\n",
       "0       2023               SE              FT  Principal Data Scientist   \n",
       "\n",
       "   salary salary_currency  salary_in_usd employee_residence  remote_ratio  \\\n",
       "0   80000             EUR          85847                 ES           100   \n",
       "\n",
       "  company_location company_size  \n",
       "0               ES            L  "
      ]
     },
     "execution_count": 14,
     "metadata": {},
     "output_type": "execute_result"
    }
   ],
   "source": [
    "df.head(1)"
   ]
  },
  {
   "cell_type": "code",
   "execution_count": null,
   "metadata": {},
   "outputs": [],
   "source": []
  },
  {
   "cell_type": "markdown",
   "metadata": {},
   "source": [
    "¿De que pais son la mayoria de compañias?  \n"
   ]
  },
  {
   "cell_type": "code",
   "execution_count": 26,
   "metadata": {},
   "outputs": [
    {
     "name": "stdout",
     "output_type": "stream",
     "text": [
      "US 1929\n"
     ]
    }
   ],
   "source": [
    "conteo_paises = df['company_location'].value_counts()\n",
    "pais_mas_frecuente = conteo_paises.idxmax()\n",
    "cantidad = conteo_paises.max()\n",
    "\n",
    "print(pais_mas_frecuente,cantidad)"
   ]
  },
  {
   "cell_type": "markdown",
   "metadata": {},
   "source": [
    "¿En que puesto se gana mas?"
   ]
  },
  {
   "cell_type": "code",
   "execution_count": 16,
   "metadata": {},
   "outputs": [
    {
     "data": {
      "text/plain": [
       "job_title    Staff Data Scientist\n",
       "salary                   30400000\n",
       "dtype: object"
      ]
     },
     "execution_count": 16,
     "metadata": {},
     "output_type": "execute_result"
    }
   ],
   "source": [
    "df[[\"job_title\",\"salary\"]].max()"
   ]
  },
  {
   "cell_type": "code",
   "execution_count": 17,
   "metadata": {},
   "outputs": [
    {
     "data": {
      "text/plain": [
       "<bound method Series.max of job_title\n",
       "3D Computer Vision Researcher     50000\n",
       "AI Developer                     300000\n",
       "AI Programmer                     70000\n",
       "AI Scientist                     423834\n",
       "Analytics Engineer               289800\n",
       "                                  ...  \n",
       "Research Engineer                293000\n",
       "Research Scientist               450000\n",
       "Software Data Engineer            75020\n",
       "Staff Data Analyst                15000\n",
       "Staff Data Scientist             105000\n",
       "Name: salary_in_usd, Length: 93, dtype: int64>"
      ]
     },
     "execution_count": 17,
     "metadata": {},
     "output_type": "execute_result"
    }
   ],
   "source": [
    "df.groupby(\"job_title\")[\"salary_in_usd\"].max().idxmax(),\n",
    "df.groupby(\"job_title\")[\"salary_in_usd\"].max().max"
   ]
  },
  {
   "cell_type": "markdown",
   "metadata": {},
   "source": [
    "Tipo de trabajo, pais de residencia donde mas se cobra?"
   ]
  },
  {
   "cell_type": "code",
   "execution_count": 18,
   "metadata": {},
   "outputs": [
    {
     "data": {
      "text/html": [
       "<div>\n",
       "<style scoped>\n",
       "    .dataframe tbody tr th:only-of-type {\n",
       "        vertical-align: middle;\n",
       "    }\n",
       "\n",
       "    .dataframe tbody tr th {\n",
       "        vertical-align: top;\n",
       "    }\n",
       "\n",
       "    .dataframe thead th {\n",
       "        text-align: right;\n",
       "    }\n",
       "</style>\n",
       "<table border=\"1\" class=\"dataframe\">\n",
       "  <thead>\n",
       "    <tr style=\"text-align: right;\">\n",
       "      <th></th>\n",
       "      <th>job_title</th>\n",
       "      <th>employee_residence</th>\n",
       "      <th>salary_in_usd</th>\n",
       "    </tr>\n",
       "  </thead>\n",
       "  <tbody>\n",
       "    <tr>\n",
       "      <th>377</th>\n",
       "      <td>Research Scientist</td>\n",
       "      <td>US</td>\n",
       "      <td>450000</td>\n",
       "    </tr>\n",
       "    <tr>\n",
       "      <th>111</th>\n",
       "      <td>Data Analyst</td>\n",
       "      <td>GB</td>\n",
       "      <td>430967</td>\n",
       "    </tr>\n",
       "    <tr>\n",
       "      <th>21</th>\n",
       "      <td>AI Scientist</td>\n",
       "      <td>IL</td>\n",
       "      <td>423834</td>\n",
       "    </tr>\n",
       "    <tr>\n",
       "      <th>44</th>\n",
       "      <td>Applied Machine Learning Scientist</td>\n",
       "      <td>US</td>\n",
       "      <td>423000</td>\n",
       "    </tr>\n",
       "    <tr>\n",
       "      <th>357</th>\n",
       "      <td>Principal Data Scientist</td>\n",
       "      <td>US</td>\n",
       "      <td>416000</td>\n",
       "    </tr>\n",
       "    <tr>\n",
       "      <th>...</th>\n",
       "      <td>...</td>\n",
       "      <td>...</td>\n",
       "      <td>...</td>\n",
       "    </tr>\n",
       "    <tr>\n",
       "      <th>55</th>\n",
       "      <td>BI Data Analyst</td>\n",
       "      <td>BR</td>\n",
       "      <td>6270</td>\n",
       "    </tr>\n",
       "    <tr>\n",
       "      <th>184</th>\n",
       "      <td>Data Science Consultant</td>\n",
       "      <td>IN</td>\n",
       "      <td>5707</td>\n",
       "    </tr>\n",
       "    <tr>\n",
       "      <th>350</th>\n",
       "      <td>Power BI Developer</td>\n",
       "      <td>IN</td>\n",
       "      <td>5409</td>\n",
       "    </tr>\n",
       "    <tr>\n",
       "      <th>2</th>\n",
       "      <td>3D Computer Vision Researcher</td>\n",
       "      <td>IN</td>\n",
       "      <td>5409</td>\n",
       "    </tr>\n",
       "    <tr>\n",
       "      <th>346</th>\n",
       "      <td>NLP Engineer</td>\n",
       "      <td>CZ</td>\n",
       "      <td>5132</td>\n",
       "    </tr>\n",
       "  </tbody>\n",
       "</table>\n",
       "<p>382 rows × 3 columns</p>\n",
       "</div>"
      ],
      "text/plain": [
       "                              job_title employee_residence  salary_in_usd\n",
       "377                  Research Scientist                 US         450000\n",
       "111                        Data Analyst                 GB         430967\n",
       "21                         AI Scientist                 IL         423834\n",
       "44   Applied Machine Learning Scientist                 US         423000\n",
       "357            Principal Data Scientist                 US         416000\n",
       "..                                  ...                ...            ...\n",
       "55                      BI Data Analyst                 BR           6270\n",
       "184             Data Science Consultant                 IN           5707\n",
       "350                  Power BI Developer                 IN           5409\n",
       "2         3D Computer Vision Researcher                 IN           5409\n",
       "346                        NLP Engineer                 CZ           5132\n",
       "\n",
       "[382 rows x 3 columns]"
      ]
     },
     "execution_count": 18,
     "metadata": {},
     "output_type": "execute_result"
    }
   ],
   "source": [
    "df.groupby([\"job_title\",\"employee_residence\"])[\"salary_in_usd\"].max().reset_index().sort_values(by=\"salary_in_usd\",ascending=False)"
   ]
  },
  {
   "cell_type": "markdown",
   "metadata": {},
   "source": [
    "¿El nivel de  experiencia es proporcional al salario?"
   ]
  },
  {
   "cell_type": "code",
   "execution_count": 19,
   "metadata": {},
   "outputs": [
    {
     "data": {
      "text/plain": [
       "0       SE\n",
       "1       MI\n",
       "2       MI\n",
       "3       SE\n",
       "4       SE\n",
       "        ..\n",
       "3750    SE\n",
       "3751    MI\n",
       "3752    EN\n",
       "3753    EN\n",
       "3754    SE\n",
       "Name: experience_level, Length: 2584, dtype: object"
      ]
     },
     "execution_count": 19,
     "metadata": {},
     "output_type": "execute_result"
    }
   ],
   "source": [
    "\n",
    "df[\"experience_level\"]"
   ]
  },
  {
   "cell_type": "markdown",
   "metadata": {},
   "source": [
    "¿Cuanto se cobra de media por cada nivel de experiencia?"
   ]
  },
  {
   "cell_type": "code",
   "execution_count": 20,
   "metadata": {},
   "outputs": [
    {
     "name": "stdout",
     "output_type": "stream",
     "text": [
      "   experience_level employment_type  salary_in_usd\n",
      "12               SE              FT  154165.019367\n",
      "11               SE              FL   53333.333333\n",
      "10               SE              CT   97500.000000\n",
      "9                MI              PT   42561.000000\n",
      "8                MI              FT  102742.781874\n",
      "7                MI              FL   41615.600000\n",
      "6                MI              CT   78600.000000\n",
      "5                EX              FT  188710.610526\n",
      "4                EX              CT  416000.000000\n",
      "3                EN              PT   38885.000000\n",
      "2                EN              FT   74564.626984\n",
      "1                EN              FL   75000.000000\n",
      "0                EN              CT   65234.500000\n"
     ]
    }
   ],
   "source": [
    "df_media_salario_exp=df.groupby([\"experience_level\",\"employment_type\"])[\"salary_in_usd\"].mean().reset_index().sort_values(by=[\"experience_level\",\"employment_type\"],ascending=False)\n",
    "print(df_media_salario_exp)"
   ]
  },
  {
   "cell_type": "markdown",
   "metadata": {},
   "source": [
    "¿En que tamaño de compañia se gana más?"
   ]
  },
  {
   "cell_type": "code",
   "execution_count": 21,
   "metadata": {},
   "outputs": [
    {
     "data": {
      "text/html": [
       "<div>\n",
       "<style scoped>\n",
       "    .dataframe tbody tr th:only-of-type {\n",
       "        vertical-align: middle;\n",
       "    }\n",
       "\n",
       "    .dataframe tbody tr th {\n",
       "        vertical-align: top;\n",
       "    }\n",
       "\n",
       "    .dataframe thead th {\n",
       "        text-align: right;\n",
       "    }\n",
       "</style>\n",
       "<table border=\"1\" class=\"dataframe\">\n",
       "  <thead>\n",
       "    <tr style=\"text-align: right;\">\n",
       "      <th></th>\n",
       "      <th>company_location</th>\n",
       "      <th>company_size</th>\n",
       "      <th>salary_in_usd</th>\n",
       "    </tr>\n",
       "  </thead>\n",
       "  <tbody>\n",
       "    <tr>\n",
       "      <th>132</th>\n",
       "      <td>VN</td>\n",
       "      <td>L</td>\n",
       "      <td>12000.000000</td>\n",
       "    </tr>\n",
       "    <tr>\n",
       "      <th>131</th>\n",
       "      <td>US</td>\n",
       "      <td>S</td>\n",
       "      <td>105847.339623</td>\n",
       "    </tr>\n",
       "    <tr>\n",
       "      <th>130</th>\n",
       "      <td>US</td>\n",
       "      <td>M</td>\n",
       "      <td>153984.837560</td>\n",
       "    </tr>\n",
       "    <tr>\n",
       "      <th>129</th>\n",
       "      <td>US</td>\n",
       "      <td>L</td>\n",
       "      <td>151464.422727</td>\n",
       "    </tr>\n",
       "    <tr>\n",
       "      <th>128</th>\n",
       "      <td>UA</td>\n",
       "      <td>S</td>\n",
       "      <td>50000.000000</td>\n",
       "    </tr>\n",
       "    <tr>\n",
       "      <th>...</th>\n",
       "      <td>...</td>\n",
       "      <td>...</td>\n",
       "      <td>...</td>\n",
       "    </tr>\n",
       "    <tr>\n",
       "      <th>5</th>\n",
       "      <td>AR</td>\n",
       "      <td>S</td>\n",
       "      <td>13000.000000</td>\n",
       "    </tr>\n",
       "    <tr>\n",
       "      <th>3</th>\n",
       "      <td>AM</td>\n",
       "      <td>S</td>\n",
       "      <td>50000.000000</td>\n",
       "    </tr>\n",
       "    <tr>\n",
       "      <th>2</th>\n",
       "      <td>AL</td>\n",
       "      <td>S</td>\n",
       "      <td>10000.000000</td>\n",
       "    </tr>\n",
       "    <tr>\n",
       "      <th>1</th>\n",
       "      <td>AE</td>\n",
       "      <td>S</td>\n",
       "      <td>92500.000000</td>\n",
       "    </tr>\n",
       "    <tr>\n",
       "      <th>0</th>\n",
       "      <td>AE</td>\n",
       "      <td>L</td>\n",
       "      <td>115000.000000</td>\n",
       "    </tr>\n",
       "  </tbody>\n",
       "</table>\n",
       "<p>133 rows × 3 columns</p>\n",
       "</div>"
      ],
      "text/plain": [
       "    company_location company_size  salary_in_usd\n",
       "132               VN            L   12000.000000\n",
       "131               US            S  105847.339623\n",
       "130               US            M  153984.837560\n",
       "129               US            L  151464.422727\n",
       "128               UA            S   50000.000000\n",
       "..               ...          ...            ...\n",
       "5                 AR            S   13000.000000\n",
       "3                 AM            S   50000.000000\n",
       "2                 AL            S   10000.000000\n",
       "1                 AE            S   92500.000000\n",
       "0                 AE            L  115000.000000\n",
       "\n",
       "[133 rows x 3 columns]"
      ]
     },
     "execution_count": 21,
     "metadata": {},
     "output_type": "execute_result"
    }
   ],
   "source": [
    "df.groupby([\"company_location\",\"company_size\"])[\"salary_in_usd\"].mean().reset_index().sort_values(by=[\"company_location\"],ascending=False)"
   ]
  },
  {
   "cell_type": "markdown",
   "metadata": {},
   "source": [
    "en que pais se cobra  mas por tipo de empleo?"
   ]
  },
  {
   "cell_type": "code",
   "execution_count": 22,
   "metadata": {},
   "outputs": [
    {
     "data": {
      "text/html": [
       "<div>\n",
       "<style scoped>\n",
       "    .dataframe tbody tr th:only-of-type {\n",
       "        vertical-align: middle;\n",
       "    }\n",
       "\n",
       "    .dataframe tbody tr th {\n",
       "        vertical-align: top;\n",
       "    }\n",
       "\n",
       "    .dataframe thead th {\n",
       "        text-align: right;\n",
       "    }\n",
       "</style>\n",
       "<table border=\"1\" class=\"dataframe\">\n",
       "  <thead>\n",
       "    <tr style=\"text-align: right;\">\n",
       "      <th></th>\n",
       "      <th></th>\n",
       "      <th>salary</th>\n",
       "    </tr>\n",
       "    <tr>\n",
       "      <th>company_location</th>\n",
       "      <th>job_title</th>\n",
       "      <th></th>\n",
       "    </tr>\n",
       "  </thead>\n",
       "  <tbody>\n",
       "    <tr>\n",
       "      <th>CL</th>\n",
       "      <th>Data Scientist</th>\n",
       "      <td>30400000.0</td>\n",
       "    </tr>\n",
       "    <tr>\n",
       "      <th>HU</th>\n",
       "      <th>Data Scientist</th>\n",
       "      <td>8800000.0</td>\n",
       "    </tr>\n",
       "    <tr>\n",
       "      <th>JP</th>\n",
       "      <th>ML Engineer</th>\n",
       "      <td>7750000.0</td>\n",
       "    </tr>\n",
       "    <tr>\n",
       "      <th rowspan=\"2\" valign=\"top\">IN</th>\n",
       "      <th>Lead Machine Learning Engineer</th>\n",
       "      <td>7500000.0</td>\n",
       "    </tr>\n",
       "    <tr>\n",
       "      <th>Data Science Manager</th>\n",
       "      <td>7000000.0</td>\n",
       "    </tr>\n",
       "    <tr>\n",
       "      <th>...</th>\n",
       "      <th>...</th>\n",
       "      <td>...</td>\n",
       "    </tr>\n",
       "    <tr>\n",
       "      <th>SG</th>\n",
       "      <th>Product Data Scientist</th>\n",
       "      <td>8000.0</td>\n",
       "    </tr>\n",
       "    <tr>\n",
       "      <th>PK</th>\n",
       "      <th>Data Analyst</th>\n",
       "      <td>8000.0</td>\n",
       "    </tr>\n",
       "    <tr>\n",
       "      <th>BO</th>\n",
       "      <th>Analytics Engineer</th>\n",
       "      <td>7500.0</td>\n",
       "    </tr>\n",
       "    <tr>\n",
       "      <th>GH</th>\n",
       "      <th>Autonomous Vehicle Technician</th>\n",
       "      <td>7000.0</td>\n",
       "    </tr>\n",
       "    <tr>\n",
       "      <th>MK</th>\n",
       "      <th>AI Developer</th>\n",
       "      <td>6000.0</td>\n",
       "    </tr>\n",
       "  </tbody>\n",
       "</table>\n",
       "<p>356 rows × 1 columns</p>\n",
       "</div>"
      ],
      "text/plain": [
       "                                                     salary\n",
       "company_location job_title                                 \n",
       "CL               Data Scientist                  30400000.0\n",
       "HU               Data Scientist                   8800000.0\n",
       "JP               ML Engineer                      7750000.0\n",
       "IN               Lead Machine Learning Engineer   7500000.0\n",
       "                 Data Science Manager             7000000.0\n",
       "...                                                     ...\n",
       "SG               Product Data Scientist              8000.0\n",
       "PK               Data Analyst                        8000.0\n",
       "BO               Analytics Engineer                  7500.0\n",
       "GH               Autonomous Vehicle Technician       7000.0\n",
       "MK               AI Developer                        6000.0\n",
       "\n",
       "[356 rows x 1 columns]"
      ]
     },
     "execution_count": 22,
     "metadata": {},
     "output_type": "execute_result"
    }
   ],
   "source": [
    "df.groupby([\"company_location\",\"job_title\"]).agg({\"salary\":\"mean\"}).round(2).sort_values(by=[\"salary\",\"company_location\"],ascending=False)"
   ]
  },
  {
   "cell_type": "markdown",
   "metadata": {},
   "source": [
    "nivel de experiencia mas requerido"
   ]
  },
  {
   "cell_type": "code",
   "execution_count": 23,
   "metadata": {},
   "outputs": [
    {
     "name": "stdout",
     "output_type": "stream",
     "text": [
      "job_title       experience_level\n",
      "Data Engineer   SE                  382\n",
      "Data Scientist  SE                  327\n",
      "Data Analyst    SE                  220\n",
      "Data Scientist  MI                  146\n",
      "Data Engineer   MI                  141\n",
      "dtype: int64\n"
     ]
    }
   ],
   "source": [
    "exp_requerido=df.groupby([\"job_title\",\"experience_level\"]).size()\n",
    "top_5 = exp_requerido.nlargest(5)\n",
    "print(top_5)\n",
    "\n"
   ]
  },
  {
   "cell_type": "markdown",
   "metadata": {},
   "source": [
    "cuáles se repiten más en este set de datos, las empresas medianas, grandes o pequeñas"
   ]
  },
  {
   "cell_type": "code",
   "execution_count": 24,
   "metadata": {},
   "outputs": [
    {
     "name": "stdout",
     "output_type": "stream",
     "text": [
      "El tipo de empresa que más se repite es: M\n"
     ]
    }
   ],
   "source": [
    "conteo_tamaño = df['company_size'].value_counts()\n",
    "empresa_mas_repetida = conteo_tamaño.idxmax()\n",
    "print(\"El tipo de empresa que más se repite es:\", empresa_mas_repetida)\n"
   ]
  }
 ],
 "metadata": {
  "kernelspec": {
   "display_name": "Python 3",
   "language": "python",
   "name": "python3"
  },
  "language_info": {
   "codemirror_mode": {
    "name": "ipython",
    "version": 3
   },
   "file_extension": ".py",
   "mimetype": "text/x-python",
   "name": "python",
   "nbconvert_exporter": "python",
   "pygments_lexer": "ipython3",
   "version": "3.11.9"
  }
 },
 "nbformat": 4,
 "nbformat_minor": 2
}
